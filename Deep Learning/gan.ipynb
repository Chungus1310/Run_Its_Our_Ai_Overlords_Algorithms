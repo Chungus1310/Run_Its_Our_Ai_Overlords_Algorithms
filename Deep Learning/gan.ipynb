{
  "cells": [
    {
      "cell_type": "code",
      "source": [
        "import torch\n",
        "import torchvision\n",
        "from torch.utils.data import DataLoader\n",
        "\n",
        "import torch.nn as nn\n",
        "import torch.optim as optim\n",
        "import torchvision.transforms as transforms\n",
        "import matplotlib.pyplot as plt"
      ],
      "metadata": {
        "id": "c95MGL9KA4uH"
      },
      "execution_count": 32,
      "outputs": []
    },
    {
      "cell_type": "code",
      "source": [
        "# Set random seed for reproducibility\n",
        "torch.manual_seed(42)\n",
        "\n",
        "# 1. Data Preparation\n",
        "# Convert images to tensors and normalize to [-1, 1]\n",
        "transform = transforms.Compose([\n",
        "    transforms.ToTensor(),\n",
        "    transforms.Normalize((0.5,), (0.5,))\n",
        "])\n",
        "\n",
        "# Load MNIST dataset\n",
        "mnist_dataset = torchvision.datasets.MNIST(root='./data', train=True, download=True, transform=transform)\n",
        "dataloader = DataLoader(mnist_dataset, batch_size=64, shuffle=True)"
      ],
      "metadata": {
        "colab": {
          "base_uri": "https://localhost:8080/"
        },
        "id": "8OSHLxQkA8BK",
        "outputId": "52dfa261-6f75-4487-ae7a-98c094c75d2e"
      },
      "execution_count": 33,
      "outputs": [
        {
          "output_type": "stream",
          "name": "stdout",
          "text": [
            "Downloading http://yann.lecun.com/exdb/mnist/train-images-idx3-ubyte.gz\n",
            "Failed to download (trying next):\n",
            "HTTP Error 403: Forbidden\n",
            "\n",
            "Downloading https://ossci-datasets.s3.amazonaws.com/mnist/train-images-idx3-ubyte.gz\n",
            "Downloading https://ossci-datasets.s3.amazonaws.com/mnist/train-images-idx3-ubyte.gz to ./data/MNIST/raw/train-images-idx3-ubyte.gz\n"
          ]
        },
        {
          "output_type": "stream",
          "name": "stderr",
          "text": [
            "100%|██████████| 9.91M/9.91M [00:00<00:00, 16.5MB/s]\n"
          ]
        },
        {
          "output_type": "stream",
          "name": "stdout",
          "text": [
            "Extracting ./data/MNIST/raw/train-images-idx3-ubyte.gz to ./data/MNIST/raw\n",
            "\n",
            "Downloading http://yann.lecun.com/exdb/mnist/train-labels-idx1-ubyte.gz\n",
            "Failed to download (trying next):\n",
            "HTTP Error 403: Forbidden\n",
            "\n",
            "Downloading https://ossci-datasets.s3.amazonaws.com/mnist/train-labels-idx1-ubyte.gz\n",
            "Downloading https://ossci-datasets.s3.amazonaws.com/mnist/train-labels-idx1-ubyte.gz to ./data/MNIST/raw/train-labels-idx1-ubyte.gz\n"
          ]
        },
        {
          "output_type": "stream",
          "name": "stderr",
          "text": [
            "100%|██████████| 28.9k/28.9k [00:00<00:00, 452kB/s]\n"
          ]
        },
        {
          "output_type": "stream",
          "name": "stdout",
          "text": [
            "Extracting ./data/MNIST/raw/train-labels-idx1-ubyte.gz to ./data/MNIST/raw\n",
            "\n",
            "Downloading http://yann.lecun.com/exdb/mnist/t10k-images-idx3-ubyte.gz\n",
            "Failed to download (trying next):\n",
            "HTTP Error 403: Forbidden\n",
            "\n",
            "Downloading https://ossci-datasets.s3.amazonaws.com/mnist/t10k-images-idx3-ubyte.gz\n",
            "Downloading https://ossci-datasets.s3.amazonaws.com/mnist/t10k-images-idx3-ubyte.gz to ./data/MNIST/raw/t10k-images-idx3-ubyte.gz\n"
          ]
        },
        {
          "output_type": "stream",
          "name": "stderr",
          "text": [
            "100%|██████████| 1.65M/1.65M [00:00<00:00, 3.61MB/s]\n"
          ]
        },
        {
          "output_type": "stream",
          "name": "stdout",
          "text": [
            "Extracting ./data/MNIST/raw/t10k-images-idx3-ubyte.gz to ./data/MNIST/raw\n",
            "\n",
            "Downloading http://yann.lecun.com/exdb/mnist/t10k-labels-idx1-ubyte.gz\n",
            "Failed to download (trying next):\n",
            "HTTP Error 403: Forbidden\n",
            "\n",
            "Downloading https://ossci-datasets.s3.amazonaws.com/mnist/t10k-labels-idx1-ubyte.gz\n",
            "Downloading https://ossci-datasets.s3.amazonaws.com/mnist/t10k-labels-idx1-ubyte.gz to ./data/MNIST/raw/t10k-labels-idx1-ubyte.gz\n"
          ]
        },
        {
          "output_type": "stream",
          "name": "stderr",
          "text": [
            "100%|██████████| 4.54k/4.54k [00:00<00:00, 9.68MB/s]"
          ]
        },
        {
          "output_type": "stream",
          "name": "stdout",
          "text": [
            "Extracting ./data/MNIST/raw/t10k-labels-idx1-ubyte.gz to ./data/MNIST/raw\n",
            "\n"
          ]
        },
        {
          "output_type": "stream",
          "name": "stderr",
          "text": [
            "\n"
          ]
        }
      ]
    },
    {
      "cell_type": "code",
      "source": [
        "# 2. Define Generator Network\n",
        "class Generator(nn.Module):\n",
        "    def __init__(self):\n",
        "        super(Generator, self).__init__()\n",
        "        # The generator takes random noise and transforms it into images\n",
        "        self.model = nn.Sequential(\n",
        "            # Input: random noise vector (100 dimensions)\n",
        "            nn.Linear(100, 256),\n",
        "            nn.ReLU(),\n",
        "            nn.Linear(256, 512),\n",
        "            nn.ReLU(),\n",
        "            nn.Linear(512, 784),  # 28x28 = 784 (MNIST image size)\n",
        "            nn.Tanh()  # Output values between -1 and 1\n",
        "        )\n",
        "\n",
        "    def forward(self, x):\n",
        "        return self.model(x).view(-1, 1, 28, 28)  # Reshape to image format"
      ],
      "metadata": {
        "id": "kyikP-xIA9vL"
      },
      "execution_count": 34,
      "outputs": []
    },
    {
      "cell_type": "code",
      "source": [
        "# 3. Define Discriminator Network\n",
        "class Discriminator(nn.Module):\n",
        "    def __init__(self):\n",
        "        super(Discriminator, self).__init__()\n",
        "        # The discriminator tries to distinguish real from fake images\n",
        "        self.model = nn.Sequential(\n",
        "            # Input: 28x28 image\n",
        "            nn.Flatten(),  # Flatten the image\n",
        "            nn.Linear(784, 512),\n",
        "            nn.ReLU(),\n",
        "            nn.Linear(512, 256),\n",
        "            nn.ReLU(),\n",
        "            nn.Linear(256, 1),\n",
        "            nn.Sigmoid()  # Output probability between 0 and 1\n",
        "        )\n",
        "\n",
        "    def forward(self, x):\n",
        "        return self.model(x)"
      ],
      "metadata": {
        "id": "HttZI_nLA_gp"
      },
      "execution_count": 35,
      "outputs": []
    },
    {
      "cell_type": "code",
      "source": [
        "# 4. Initialize networks and optimizers\n",
        "generator = Generator()\n",
        "discriminator = Discriminator()\n",
        "g_optimizer = optim.Adam(generator.parameters(), lr=0.0002)\n",
        "d_optimizer = optim.Adam(discriminator.parameters(), lr=0.0002)\n",
        "criterion = nn.BCELoss()"
      ],
      "metadata": {
        "id": "0ZBwJYEKBA5Q"
      },
      "execution_count": 36,
      "outputs": []
    },
    {
      "cell_type": "code",
      "source": [
        "# 5. Training Loop\n",
        "num_epochs = 20\n",
        "for epoch in range(num_epochs):\n",
        "    for i, (real_images, _) in enumerate(dataloader):\n",
        "        batch_size = real_images.size(0)\n",
        "\n",
        "        # Create labels for real and fake images\n",
        "        real_label = torch.ones(batch_size, 1)\n",
        "        fake_label = torch.zeros(batch_size, 1)\n",
        "\n",
        "        # Train Discriminator\n",
        "        d_optimizer.zero_grad()\n",
        "        # Train with real images\n",
        "        output_real = discriminator(real_images)\n",
        "        d_loss_real = criterion(output_real, real_label)\n",
        "\n",
        "        # Train with fake images\n",
        "        noise = torch.randn(batch_size, 100)  # Generate random noise\n",
        "        fake_images = generator(noise)\n",
        "        output_fake = discriminator(fake_images.detach())\n",
        "        d_loss_fake = criterion(output_fake, fake_label)\n",
        "\n",
        "        # Combined discriminator loss\n",
        "        d_loss = d_loss_real + d_loss_fake\n",
        "        d_loss.backward()\n",
        "        d_optimizer.step()\n",
        "\n",
        "        # Train Generator\n",
        "        g_optimizer.zero_grad()\n",
        "        output_fake = discriminator(fake_images)\n",
        "        g_loss = criterion(output_fake, real_label)  # Try to fool discriminator\n",
        "        g_loss.backward()\n",
        "        g_optimizer.step()\n",
        "\n",
        "        # Print progress\n",
        "        if i % 100 == 0:\n",
        "            print(f'Epoch [{epoch}/{num_epochs}] Batch [{i}/{len(dataloader)}] '\n",
        "                  f'D_loss: {d_loss.item():.4f} G_loss: {g_loss.item():.4f}')\n",
        "\n",
        "    # Save generated images every 10 epochs\n",
        "    if (epoch + 1) % 10 == 0:\n",
        "        with torch.no_grad():\n",
        "            fake_images = generator(torch.randn(16, 100))\n",
        "            fake_images = fake_images.reshape(-1, 28, 28)\n",
        "\n",
        "            plt.figure(figsize=(4, 4))\n",
        "            for j in range(16):\n",
        "                plt.subplot(4, 4, j+1)\n",
        "                plt.imshow(fake_images[j], cmap='gray')\n",
        "                plt.axis('off')\n",
        "            plt.savefig(f'fake_images_epoch_{epoch+1}.png')\n",
        "            plt.close()\n",
        "\n",
        "print(\"Training finished!\")"
      ],
      "metadata": {
        "colab": {
          "base_uri": "https://localhost:8080/"
        },
        "id": "RN63BUrYA1TQ",
        "outputId": "e38cc51a-f18e-491d-aa68-438119fb928d"
      },
      "execution_count": 38,
      "outputs": [
        {
          "output_type": "stream",
          "name": "stdout",
          "text": [
            "Epoch [0/20] Batch [0/938] D_loss: 0.5829 G_loss: 2.8170\n",
            "Epoch [0/20] Batch [100/938] D_loss: 0.3054 G_loss: 2.5551\n",
            "Epoch [0/20] Batch [200/938] D_loss: 0.1751 G_loss: 4.7197\n",
            "Epoch [0/20] Batch [300/938] D_loss: 0.6221 G_loss: 2.0115\n",
            "Epoch [0/20] Batch [400/938] D_loss: 1.6606 G_loss: 1.9131\n",
            "Epoch [0/20] Batch [500/938] D_loss: 0.7650 G_loss: 2.1764\n",
            "Epoch [0/20] Batch [600/938] D_loss: 0.3211 G_loss: 3.2890\n",
            "Epoch [0/20] Batch [700/938] D_loss: 0.5140 G_loss: 2.6009\n",
            "Epoch [0/20] Batch [800/938] D_loss: 0.4003 G_loss: 2.5144\n",
            "Epoch [0/20] Batch [900/938] D_loss: 2.3362 G_loss: 1.5130\n",
            "Epoch [1/20] Batch [0/938] D_loss: 0.0762 G_loss: 4.3647\n",
            "Epoch [1/20] Batch [100/938] D_loss: 0.1388 G_loss: 3.5191\n",
            "Epoch [1/20] Batch [200/938] D_loss: 0.7826 G_loss: 1.6239\n",
            "Epoch [1/20] Batch [300/938] D_loss: 0.6030 G_loss: 2.6072\n",
            "Epoch [1/20] Batch [400/938] D_loss: 0.7766 G_loss: 2.8863\n",
            "Epoch [1/20] Batch [500/938] D_loss: 0.2781 G_loss: 3.7995\n",
            "Epoch [1/20] Batch [600/938] D_loss: 0.2974 G_loss: 3.0016\n",
            "Epoch [1/20] Batch [700/938] D_loss: 0.4863 G_loss: 1.9151\n",
            "Epoch [1/20] Batch [800/938] D_loss: 0.1699 G_loss: 2.8865\n",
            "Epoch [1/20] Batch [900/938] D_loss: 0.2721 G_loss: 2.8636\n",
            "Epoch [2/20] Batch [0/938] D_loss: 0.1994 G_loss: 3.5150\n",
            "Epoch [2/20] Batch [100/938] D_loss: 0.5741 G_loss: 2.7306\n",
            "Epoch [2/20] Batch [200/938] D_loss: 0.6358 G_loss: 2.1552\n",
            "Epoch [2/20] Batch [300/938] D_loss: 0.5267 G_loss: 2.6265\n",
            "Epoch [2/20] Batch [400/938] D_loss: 0.5102 G_loss: 2.3820\n",
            "Epoch [2/20] Batch [500/938] D_loss: 0.5182 G_loss: 2.3113\n",
            "Epoch [2/20] Batch [600/938] D_loss: 0.5689 G_loss: 2.1817\n",
            "Epoch [2/20] Batch [700/938] D_loss: 0.4476 G_loss: 1.8857\n",
            "Epoch [2/20] Batch [800/938] D_loss: 0.6389 G_loss: 2.7462\n",
            "Epoch [2/20] Batch [900/938] D_loss: 0.4272 G_loss: 2.2104\n",
            "Epoch [3/20] Batch [0/938] D_loss: 0.4987 G_loss: 2.7835\n",
            "Epoch [3/20] Batch [100/938] D_loss: 0.5938 G_loss: 3.5372\n",
            "Epoch [3/20] Batch [200/938] D_loss: 0.4065 G_loss: 2.1407\n",
            "Epoch [3/20] Batch [300/938] D_loss: 0.7413 G_loss: 2.7842\n",
            "Epoch [3/20] Batch [400/938] D_loss: 0.1132 G_loss: 3.8727\n",
            "Epoch [3/20] Batch [500/938] D_loss: 0.4618 G_loss: 2.1444\n",
            "Epoch [3/20] Batch [600/938] D_loss: 0.8607 G_loss: 2.0754\n",
            "Epoch [3/20] Batch [700/938] D_loss: 0.7604 G_loss: 2.6413\n",
            "Epoch [3/20] Batch [800/938] D_loss: 0.7394 G_loss: 2.8455\n",
            "Epoch [3/20] Batch [900/938] D_loss: 1.2386 G_loss: 0.9836\n",
            "Epoch [4/20] Batch [0/938] D_loss: 0.7820 G_loss: 1.8561\n",
            "Epoch [4/20] Batch [100/938] D_loss: 0.8640 G_loss: 1.3423\n",
            "Epoch [4/20] Batch [200/938] D_loss: 0.6850 G_loss: 1.9712\n",
            "Epoch [4/20] Batch [300/938] D_loss: 0.4589 G_loss: 2.8498\n",
            "Epoch [4/20] Batch [400/938] D_loss: 0.6177 G_loss: 1.6230\n",
            "Epoch [4/20] Batch [500/938] D_loss: 0.2089 G_loss: 3.0599\n",
            "Epoch [4/20] Batch [600/938] D_loss: 0.6438 G_loss: 3.4532\n",
            "Epoch [4/20] Batch [700/938] D_loss: 0.4991 G_loss: 2.3173\n",
            "Epoch [4/20] Batch [800/938] D_loss: 0.6073 G_loss: 2.2455\n",
            "Epoch [4/20] Batch [900/938] D_loss: 0.3195 G_loss: 3.2480\n",
            "Epoch [5/20] Batch [0/938] D_loss: 0.3734 G_loss: 3.1453\n",
            "Epoch [5/20] Batch [100/938] D_loss: 0.4366 G_loss: 3.4939\n",
            "Epoch [5/20] Batch [200/938] D_loss: 0.5546 G_loss: 2.8945\n",
            "Epoch [5/20] Batch [300/938] D_loss: 0.4574 G_loss: 2.9999\n",
            "Epoch [5/20] Batch [400/938] D_loss: 0.2664 G_loss: 4.2674\n",
            "Epoch [5/20] Batch [500/938] D_loss: 0.3840 G_loss: 4.2220\n",
            "Epoch [5/20] Batch [600/938] D_loss: 0.2422 G_loss: 4.7961\n",
            "Epoch [5/20] Batch [700/938] D_loss: 0.3710 G_loss: 3.5025\n",
            "Epoch [5/20] Batch [800/938] D_loss: 0.4886 G_loss: 3.1288\n",
            "Epoch [5/20] Batch [900/938] D_loss: 0.6806 G_loss: 1.9021\n",
            "Epoch [6/20] Batch [0/938] D_loss: 0.4187 G_loss: 4.2316\n",
            "Epoch [6/20] Batch [100/938] D_loss: 0.6219 G_loss: 5.0622\n",
            "Epoch [6/20] Batch [200/938] D_loss: 0.2374 G_loss: 5.6297\n",
            "Epoch [6/20] Batch [300/938] D_loss: 0.1307 G_loss: 4.9790\n",
            "Epoch [6/20] Batch [400/938] D_loss: 0.5309 G_loss: 4.7578\n",
            "Epoch [6/20] Batch [500/938] D_loss: 0.2200 G_loss: 4.7088\n",
            "Epoch [6/20] Batch [600/938] D_loss: 0.4800 G_loss: 2.6266\n",
            "Epoch [6/20] Batch [700/938] D_loss: 0.3723 G_loss: 4.7941\n",
            "Epoch [6/20] Batch [800/938] D_loss: 0.6331 G_loss: 1.9860\n",
            "Epoch [6/20] Batch [900/938] D_loss: 0.7899 G_loss: 3.9661\n",
            "Epoch [7/20] Batch [0/938] D_loss: 0.1966 G_loss: 4.5954\n",
            "Epoch [7/20] Batch [100/938] D_loss: 0.4314 G_loss: 4.3530\n",
            "Epoch [7/20] Batch [200/938] D_loss: 0.3290 G_loss: 3.1761\n",
            "Epoch [7/20] Batch [300/938] D_loss: 0.2800 G_loss: 4.2133\n",
            "Epoch [7/20] Batch [400/938] D_loss: 0.2531 G_loss: 3.9330\n",
            "Epoch [7/20] Batch [500/938] D_loss: 0.6524 G_loss: 1.9690\n",
            "Epoch [7/20] Batch [600/938] D_loss: 0.3859 G_loss: 2.8245\n",
            "Epoch [7/20] Batch [700/938] D_loss: 0.5800 G_loss: 3.2933\n",
            "Epoch [7/20] Batch [800/938] D_loss: 0.4381 G_loss: 3.1624\n",
            "Epoch [7/20] Batch [900/938] D_loss: 0.2178 G_loss: 3.1045\n",
            "Epoch [8/20] Batch [0/938] D_loss: 0.5189 G_loss: 3.0400\n",
            "Epoch [8/20] Batch [100/938] D_loss: 0.4882 G_loss: 3.3710\n",
            "Epoch [8/20] Batch [200/938] D_loss: 0.5321 G_loss: 3.4886\n",
            "Epoch [8/20] Batch [300/938] D_loss: 0.4067 G_loss: 4.1635\n",
            "Epoch [8/20] Batch [400/938] D_loss: 0.2925 G_loss: 4.1043\n",
            "Epoch [8/20] Batch [500/938] D_loss: 0.5409 G_loss: 3.7119\n",
            "Epoch [8/20] Batch [600/938] D_loss: 0.4279 G_loss: 2.6588\n",
            "Epoch [8/20] Batch [700/938] D_loss: 0.5535 G_loss: 3.5806\n",
            "Epoch [8/20] Batch [800/938] D_loss: 0.4313 G_loss: 2.5939\n",
            "Epoch [8/20] Batch [900/938] D_loss: 0.3214 G_loss: 2.6673\n",
            "Epoch [9/20] Batch [0/938] D_loss: 0.2623 G_loss: 3.0494\n",
            "Epoch [9/20] Batch [100/938] D_loss: 0.3541 G_loss: 3.2060\n",
            "Epoch [9/20] Batch [200/938] D_loss: 0.4106 G_loss: 2.8254\n",
            "Epoch [9/20] Batch [300/938] D_loss: 0.4838 G_loss: 2.4867\n",
            "Epoch [9/20] Batch [400/938] D_loss: 0.4651 G_loss: 3.0625\n",
            "Epoch [9/20] Batch [500/938] D_loss: 0.1893 G_loss: 2.9179\n",
            "Epoch [9/20] Batch [600/938] D_loss: 0.3186 G_loss: 4.4946\n",
            "Epoch [9/20] Batch [700/938] D_loss: 0.4160 G_loss: 3.4460\n",
            "Epoch [9/20] Batch [800/938] D_loss: 0.2877 G_loss: 4.2382\n",
            "Epoch [9/20] Batch [900/938] D_loss: 0.4599 G_loss: 4.2124\n",
            "Epoch [10/20] Batch [0/938] D_loss: 0.3207 G_loss: 3.1318\n",
            "Epoch [10/20] Batch [100/938] D_loss: 0.4558 G_loss: 3.7326\n",
            "Epoch [10/20] Batch [200/938] D_loss: 0.2803 G_loss: 3.2507\n",
            "Epoch [10/20] Batch [300/938] D_loss: 0.2936 G_loss: 3.2399\n",
            "Epoch [10/20] Batch [400/938] D_loss: 0.5384 G_loss: 3.7466\n",
            "Epoch [10/20] Batch [500/938] D_loss: 0.3848 G_loss: 3.7690\n",
            "Epoch [10/20] Batch [600/938] D_loss: 0.3104 G_loss: 3.5722\n",
            "Epoch [10/20] Batch [700/938] D_loss: 0.4357 G_loss: 3.7270\n",
            "Epoch [10/20] Batch [800/938] D_loss: 0.4647 G_loss: 5.7072\n",
            "Epoch [10/20] Batch [900/938] D_loss: 0.3812 G_loss: 3.4813\n",
            "Epoch [11/20] Batch [0/938] D_loss: 0.3917 G_loss: 3.8633\n",
            "Epoch [11/20] Batch [100/938] D_loss: 0.4131 G_loss: 3.8188\n",
            "Epoch [11/20] Batch [200/938] D_loss: 0.1646 G_loss: 4.1138\n",
            "Epoch [11/20] Batch [300/938] D_loss: 0.3201 G_loss: 3.6217\n",
            "Epoch [11/20] Batch [400/938] D_loss: 0.2931 G_loss: 3.2204\n",
            "Epoch [11/20] Batch [500/938] D_loss: 0.2817 G_loss: 3.9285\n",
            "Epoch [11/20] Batch [600/938] D_loss: 0.4539 G_loss: 3.3448\n",
            "Epoch [11/20] Batch [700/938] D_loss: 0.4558 G_loss: 3.0611\n",
            "Epoch [11/20] Batch [800/938] D_loss: 0.5222 G_loss: 2.6963\n",
            "Epoch [11/20] Batch [900/938] D_loss: 0.7355 G_loss: 3.3076\n",
            "Epoch [12/20] Batch [0/938] D_loss: 0.5826 G_loss: 3.5895\n",
            "Epoch [12/20] Batch [100/938] D_loss: 0.5596 G_loss: 3.2228\n",
            "Epoch [12/20] Batch [200/938] D_loss: 0.5487 G_loss: 2.7925\n",
            "Epoch [12/20] Batch [300/938] D_loss: 0.4199 G_loss: 2.9650\n",
            "Epoch [12/20] Batch [400/938] D_loss: 0.2982 G_loss: 3.3243\n",
            "Epoch [12/20] Batch [500/938] D_loss: 0.5933 G_loss: 3.2532\n",
            "Epoch [12/20] Batch [600/938] D_loss: 0.5595 G_loss: 3.1653\n",
            "Epoch [12/20] Batch [700/938] D_loss: 0.2467 G_loss: 3.9793\n",
            "Epoch [12/20] Batch [800/938] D_loss: 0.4492 G_loss: 2.4796\n",
            "Epoch [12/20] Batch [900/938] D_loss: 0.6448 G_loss: 5.2389\n",
            "Epoch [13/20] Batch [0/938] D_loss: 0.4555 G_loss: 2.9119\n",
            "Epoch [13/20] Batch [100/938] D_loss: 0.4919 G_loss: 2.7978\n",
            "Epoch [13/20] Batch [200/938] D_loss: 0.4069 G_loss: 3.3179\n",
            "Epoch [13/20] Batch [300/938] D_loss: 0.3703 G_loss: 2.6193\n",
            "Epoch [13/20] Batch [400/938] D_loss: 0.6223 G_loss: 2.9790\n",
            "Epoch [13/20] Batch [500/938] D_loss: 0.6512 G_loss: 3.5064\n",
            "Epoch [13/20] Batch [600/938] D_loss: 0.2431 G_loss: 3.2598\n",
            "Epoch [13/20] Batch [700/938] D_loss: 0.3883 G_loss: 3.1755\n",
            "Epoch [13/20] Batch [800/938] D_loss: 0.5111 G_loss: 3.1618\n",
            "Epoch [13/20] Batch [900/938] D_loss: 0.4329 G_loss: 3.8082\n",
            "Epoch [14/20] Batch [0/938] D_loss: 0.3883 G_loss: 2.7312\n",
            "Epoch [14/20] Batch [100/938] D_loss: 0.3382 G_loss: 3.8171\n",
            "Epoch [14/20] Batch [200/938] D_loss: 0.3527 G_loss: 3.2367\n",
            "Epoch [14/20] Batch [300/938] D_loss: 0.5113 G_loss: 2.3636\n",
            "Epoch [14/20] Batch [400/938] D_loss: 0.5183 G_loss: 3.3115\n",
            "Epoch [14/20] Batch [500/938] D_loss: 0.3721 G_loss: 3.0093\n",
            "Epoch [14/20] Batch [600/938] D_loss: 0.4624 G_loss: 3.3056\n",
            "Epoch [14/20] Batch [700/938] D_loss: 0.2177 G_loss: 4.2299\n",
            "Epoch [14/20] Batch [800/938] D_loss: 0.6054 G_loss: 3.2308\n",
            "Epoch [14/20] Batch [900/938] D_loss: 0.3190 G_loss: 2.9330\n",
            "Epoch [15/20] Batch [0/938] D_loss: 0.5448 G_loss: 2.8843\n",
            "Epoch [15/20] Batch [100/938] D_loss: 0.4842 G_loss: 3.7627\n",
            "Epoch [15/20] Batch [200/938] D_loss: 0.3362 G_loss: 2.8960\n",
            "Epoch [15/20] Batch [300/938] D_loss: 0.2758 G_loss: 2.0968\n",
            "Epoch [15/20] Batch [400/938] D_loss: 0.2604 G_loss: 2.8394\n",
            "Epoch [15/20] Batch [500/938] D_loss: 0.4274 G_loss: 2.3405\n",
            "Epoch [15/20] Batch [600/938] D_loss: 0.5970 G_loss: 2.3778\n",
            "Epoch [15/20] Batch [700/938] D_loss: 0.3290 G_loss: 3.5524\n",
            "Epoch [15/20] Batch [800/938] D_loss: 0.5524 G_loss: 2.3163\n",
            "Epoch [15/20] Batch [900/938] D_loss: 0.4895 G_loss: 3.3462\n",
            "Epoch [16/20] Batch [0/938] D_loss: 0.5281 G_loss: 2.5466\n",
            "Epoch [16/20] Batch [100/938] D_loss: 0.5147 G_loss: 2.8889\n",
            "Epoch [16/20] Batch [200/938] D_loss: 0.4799 G_loss: 2.1996\n",
            "Epoch [16/20] Batch [300/938] D_loss: 0.3772 G_loss: 2.9149\n",
            "Epoch [16/20] Batch [400/938] D_loss: 0.4508 G_loss: 2.7918\n",
            "Epoch [16/20] Batch [500/938] D_loss: 0.5657 G_loss: 3.4490\n",
            "Epoch [16/20] Batch [600/938] D_loss: 0.8776 G_loss: 1.7823\n",
            "Epoch [16/20] Batch [700/938] D_loss: 0.3531 G_loss: 3.5101\n",
            "Epoch [16/20] Batch [800/938] D_loss: 0.4833 G_loss: 3.1319\n",
            "Epoch [16/20] Batch [900/938] D_loss: 0.4621 G_loss: 2.9025\n",
            "Epoch [17/20] Batch [0/938] D_loss: 0.5592 G_loss: 3.1373\n",
            "Epoch [17/20] Batch [100/938] D_loss: 0.4684 G_loss: 2.4838\n",
            "Epoch [17/20] Batch [200/938] D_loss: 0.2499 G_loss: 2.9887\n",
            "Epoch [17/20] Batch [300/938] D_loss: 0.6062 G_loss: 2.2350\n",
            "Epoch [17/20] Batch [400/938] D_loss: 0.4136 G_loss: 3.1123\n",
            "Epoch [17/20] Batch [500/938] D_loss: 0.4447 G_loss: 3.1717\n",
            "Epoch [17/20] Batch [600/938] D_loss: 0.4253 G_loss: 2.6844\n",
            "Epoch [17/20] Batch [700/938] D_loss: 0.4534 G_loss: 3.1985\n",
            "Epoch [17/20] Batch [800/938] D_loss: 0.5340 G_loss: 2.5752\n",
            "Epoch [17/20] Batch [900/938] D_loss: 0.3273 G_loss: 2.5933\n",
            "Epoch [18/20] Batch [0/938] D_loss: 0.3399 G_loss: 3.0680\n",
            "Epoch [18/20] Batch [100/938] D_loss: 0.4830 G_loss: 2.6403\n",
            "Epoch [18/20] Batch [200/938] D_loss: 0.5737 G_loss: 2.2338\n",
            "Epoch [18/20] Batch [300/938] D_loss: 0.7785 G_loss: 1.9053\n",
            "Epoch [18/20] Batch [400/938] D_loss: 0.4743 G_loss: 2.6614\n",
            "Epoch [18/20] Batch [500/938] D_loss: 0.4733 G_loss: 2.4714\n",
            "Epoch [18/20] Batch [600/938] D_loss: 0.5216 G_loss: 1.9841\n",
            "Epoch [18/20] Batch [700/938] D_loss: 0.3235 G_loss: 2.4221\n",
            "Epoch [18/20] Batch [800/938] D_loss: 0.3377 G_loss: 2.4066\n",
            "Epoch [18/20] Batch [900/938] D_loss: 0.6593 G_loss: 2.3640\n",
            "Epoch [19/20] Batch [0/938] D_loss: 0.5021 G_loss: 2.0745\n",
            "Epoch [19/20] Batch [100/938] D_loss: 0.4672 G_loss: 2.1238\n",
            "Epoch [19/20] Batch [200/938] D_loss: 0.7034 G_loss: 2.2125\n",
            "Epoch [19/20] Batch [300/938] D_loss: 0.4127 G_loss: 2.6675\n",
            "Epoch [19/20] Batch [400/938] D_loss: 0.5454 G_loss: 2.0448\n",
            "Epoch [19/20] Batch [500/938] D_loss: 0.5134 G_loss: 1.9856\n",
            "Epoch [19/20] Batch [600/938] D_loss: 0.3718 G_loss: 2.7125\n",
            "Epoch [19/20] Batch [700/938] D_loss: 0.8592 G_loss: 2.1688\n",
            "Epoch [19/20] Batch [800/938] D_loss: 0.5813 G_loss: 2.6900\n",
            "Epoch [19/20] Batch [900/938] D_loss: 0.5177 G_loss: 2.6997\n",
            "Training finished!\n"
          ]
        }
      ]
    },
    {
      "cell_type": "code",
      "source": [
        "# Function to generate and display final images\n",
        "def show_final_images(generator, num_images=16):\n",
        "    with torch.no_grad():\n",
        "        # Generate random noise\n",
        "        noise = torch.randn(num_images, 100)\n",
        "        # Generate images\n",
        "        fake_images = generator(noise)\n",
        "        fake_images = fake_images.reshape(-1, 28, 28)\n",
        "\n",
        "        # Create subplot\n",
        "        plt.figure(figsize=(8, 8))\n",
        "        for i in range(num_images):\n",
        "            plt.subplot(4, 4, i+1)\n",
        "            plt.imshow(fake_images[i].cpu().numpy(), cmap='gray')\n",
        "            plt.axis('off')\n",
        "        plt.tight_layout()\n",
        "        plt.show()\n",
        "\n",
        "# Display final generated images\n",
        "show_final_images(generator)"
      ],
      "metadata": {
        "id": "hvP2TGs5EqWU",
        "outputId": "9f3a779e-dd7d-4011-b84d-a1ecb16afc05",
        "colab": {
          "base_uri": "https://localhost:8080/",
          "height": 807
        }
      },
      "execution_count": 39,
      "outputs": [
        {
          "output_type": "display_data",
          "data": {
            "text/plain": [
              "<Figure size 800x800 with 16 Axes>"
            ],
            "image/png": "[encoded data removed]"
          },
          "metadata": {}
        }
      ]
    },
    {
      "cell_type": "code",
      "source": [],
      "metadata": {
        "id": "nJ1-Vb6IErFL"
      },
      "execution_count": null,
      "outputs": []
    }
  ],
  "metadata": {
    "language_info": {
      "name": "python"
    },
    "colab": {
      "provenance": [],
      "gpuType": "T4"
    },
    "kernelspec": {
      "name": "python3",
      "display_name": "Python 3"
    },
    "accelerator": "GPU"
  },
  "nbformat": 4,
  "nbformat_minor": 0
}