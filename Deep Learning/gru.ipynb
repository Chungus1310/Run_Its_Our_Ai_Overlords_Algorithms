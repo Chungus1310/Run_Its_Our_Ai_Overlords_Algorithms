{
  "cells": [
    {
      "cell_type": "code",
      "source": [
        "import torch\n",
        "import numpy as np\n",
        "import pandas as pd\n",
        "import yfinance as yf\n",
        "from sklearn.preprocessing import MinMaxScaler\n",
        "\n",
        "import torch.nn as nn\n",
        "import matplotlib.pyplot as plt"
      ],
      "metadata": {
        "id": "oOGiQ81wAFUL"
      },
      "execution_count": 26,
      "outputs": []
    },
    {
      "cell_type": "code",
      "source": [
        "# Step 1: Data Preparation\n",
        "# Download sample stock data (using Apple stock as an example)\n",
        "def get_stock_data(symbol='AAPL', start='2020-01-01', end='2023-12-31'):\n",
        "    \"\"\"Download stock data using yfinance\"\"\"\n",
        "    stock = yf.download(symbol, start=start, end=end)\n",
        "    return stock['Close'].values.reshape(-1, 1)"
      ],
      "metadata": {
        "id": "4NRheyioAHbZ"
      },
      "execution_count": 27,
      "outputs": []
    },
    {
      "cell_type": "code",
      "source": [
        "# Step 2: Create sequences for time series prediction\n",
        "def create_sequences(data, seq_length):\n",
        "    \"\"\"\n",
        "    Convert time series data into sequences\n",
        "    Input: [1, 2, 3, 4, 5] and seq_length=3\n",
        "    Output: X=[[1,2,3], [2,3,4]], y=[[4], [5]]\n",
        "    \"\"\"\n",
        "    X, y = [], []\n",
        "    for i in range(len(data) - seq_length):\n",
        "        X.append(data[i:(i + seq_length)])\n",
        "        y.append(data[i + seq_length])\n",
        "    return np.array(X), np.array(y)"
      ],
      "metadata": {
        "id": "Vp0uT5ogAI2U"
      },
      "execution_count": 28,
      "outputs": []
    },
    {
      "cell_type": "code",
      "source": [
        "# Step 3: Define the GRU Model\n",
        "class StockPredictor(nn.Module):\n",
        "    def __init__(self, input_size=1, hidden_size=32, num_layers=2):\n",
        "        \"\"\"\n",
        "        Initialize the GRU model\n",
        "        input_size: number of features (1 for single stock price)\n",
        "        hidden_size: number of GRU units\n",
        "        num_layers: number of GRU layers\n",
        "        \"\"\"\n",
        "        super(StockPredictor, self).__init__()\n",
        "        self.hidden_size = hidden_size\n",
        "        self.num_layers = num_layers\n",
        "\n",
        "        # GRU layer\n",
        "        self.gru = nn.GRU(input_size, hidden_size, num_layers, batch_first=True)\n",
        "        # Fully connected layer for output\n",
        "        self.fc = nn.Linear(hidden_size, 1)\n",
        "\n",
        "    def forward(self, x):\n",
        "        \"\"\"Forward pass through the network\"\"\"\n",
        "        # Initialize hidden state\n",
        "        batch_size = x.size(0)\n",
        "        h0 = torch.zeros(self.num_layers, batch_size, self.hidden_size).to(x.device)\n",
        "\n",
        "        # Forward propagate GRU\n",
        "        out, _ = self.gru(x, h0)\n",
        "\n",
        "        # Decode the hidden state of the last time step\n",
        "        out = self.fc(out[:, -1, :])\n",
        "        return out"
      ],
      "metadata": {
        "id": "8RiEiK3rAKpg"
      },
      "execution_count": 29,
      "outputs": []
    },
    {
      "cell_type": "code",
      "source": [
        "# Step 4: Training function\n",
        "def train_model(model, X_train, y_train, epochs=100, lr=0.01):\n",
        "    \"\"\"Train the GRU model\"\"\"\n",
        "    criterion = nn.MSELoss()\n",
        "    optimizer = torch.optim.Adam(model.parameters(), lr=lr)\n",
        "\n",
        "    for epoch in range(epochs):\n",
        "        # Forward pass\n",
        "        outputs = model(X_train)\n",
        "        loss = criterion(outputs, y_train)\n",
        "\n",
        "        # Backward pass and optimize\n",
        "        optimizer.zero_grad()\n",
        "        loss.backward()\n",
        "        optimizer.step()\n",
        "\n",
        "        if (epoch + 1) % 10 == 0:\n",
        "            print(f'Epoch [{epoch+1}/{epochs}], Loss: {loss.item():.4f}')"
      ],
      "metadata": {
        "id": "R_98Jzg7ANb-"
      },
      "execution_count": 30,
      "outputs": []
    },
    {
      "cell_type": "code",
      "source": [
        "def main():\n",
        "    # Get stock data\n",
        "    data = get_stock_data()\n",
        "\n",
        "    # Normalize data\n",
        "    scaler = MinMaxScaler()\n",
        "    data_normalized = scaler.fit_transform(data)\n",
        "\n",
        "    # Create sequences\n",
        "    seq_length = 10\n",
        "    X, y = create_sequences(data_normalized, seq_length)\n",
        "\n",
        "    # Convert to PyTorch tensors\n",
        "    X_train = torch.FloatTensor(X)\n",
        "    y_train = torch.FloatTensor(y)\n",
        "\n",
        "    # Initialize and train model\n",
        "    model = StockPredictor()\n",
        "    train_model(model, X_train, y_train)\n",
        "\n",
        "    # Make predictions\n",
        "    model.eval()\n",
        "    with torch.no_grad():\n",
        "        test_sequence = X_train[-1].unsqueeze(0)\n",
        "        prediction = model(test_sequence)\n",
        "        prediction = scaler.inverse_transform(prediction.numpy())\n",
        "        print(f\"Next day's predicted price: ${prediction[0][0]:.2f}\")\n",
        "\n",
        "if __name__ == \"__main__\":\n",
        "    main()"
      ],
      "metadata": {
        "colab": {
          "base_uri": "https://localhost:8080/"
        },
        "id": "TPZYSext_cKG",
        "outputId": "789908f2-c363-4d1d-f921-3e7fa7b427e0"
      },
      "execution_count": 31,
      "outputs": [
        {
          "output_type": "stream",
          "name": "stderr",
          "text": [
            "\r[*********************100%***********************]  1 of 1 completed\n"
          ]
        },
        {
          "output_type": "stream",
          "name": "stdout",
          "text": [
            "Epoch [10/100], Loss: 0.0439\n",
            "Epoch [20/100], Loss: 0.0127\n",
            "Epoch [30/100], Loss: 0.0036\n",
            "Epoch [40/100], Loss: 0.0021\n",
            "Epoch [50/100], Loss: 0.0011\n",
            "Epoch [60/100], Loss: 0.0009\n",
            "Epoch [70/100], Loss: 0.0007\n",
            "Epoch [80/100], Loss: 0.0006\n",
            "Epoch [90/100], Loss: 0.0006\n",
            "Epoch [100/100], Loss: 0.0006\n",
            "Next day's predicted price: $190.68\n"
          ]
        }
      ]
    }
  ],
  "metadata": {
    "language_info": {
      "name": "python"
    },
    "colab": {
      "provenance": [],
      "gpuType": "T4"
    },
    "kernelspec": {
      "name": "python3",
      "display_name": "Python 3"
    },
    "accelerator": "GPU"
  },
  "nbformat": 4,
  "nbformat_minor": 0
}